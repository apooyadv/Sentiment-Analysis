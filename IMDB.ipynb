{
 "cells": [
  {
   "cell_type": "markdown",
   "id": "a3bff2b9-115d-4d7b-85f4-72c59ee96209",
   "metadata": {},
   "source": [
    "**IMPORTS AND DATA PREPROCESSING**"
   ]
  },
  {
   "cell_type": "code",
   "execution_count": 1,
   "id": "05a389be-7100-48ad-a124-c78516190f66",
   "metadata": {},
   "outputs": [
    {
     "name": "stderr",
     "output_type": "stream",
     "text": [
      "2024-03-09 16:43:48.090267: E external/local_xla/xla/stream_executor/cuda/cuda_dnn.cc:9261] Unable to register cuDNN factory: Attempting to register factory for plugin cuDNN when one has already been registered\n",
      "2024-03-09 16:43:48.090315: E external/local_xla/xla/stream_executor/cuda/cuda_fft.cc:607] Unable to register cuFFT factory: Attempting to register factory for plugin cuFFT when one has already been registered\n",
      "2024-03-09 16:43:48.092014: E external/local_xla/xla/stream_executor/cuda/cuda_blas.cc:1515] Unable to register cuBLAS factory: Attempting to register factory for plugin cuBLAS when one has already been registered\n",
      "2024-03-09 16:43:48.101823: I tensorflow/core/platform/cpu_feature_guard.cc:182] This TensorFlow binary is optimized to use available CPU instructions in performance-critical operations.\n",
      "To enable the following instructions: AVX2 FMA, in other operations, rebuild TensorFlow with the appropriate compiler flags.\n",
      "2024-03-09 16:43:49.945426: W tensorflow/compiler/tf2tensorrt/utils/py_utils.cc:38] TF-TRT Warning: Could not find TensorRT\n"
     ]
    }
   ],
   "source": [
    "import os\n",
    "import tensorflow as tf\n",
    "import matplotlib.pyplot as plt\n",
    "from tensorflow import keras\n",
    "from keras.datasets import imdb\n",
    "from keras.preprocessing import sequence"
   ]
  },
  {
   "cell_type": "code",
   "execution_count": 2,
   "id": "3bc699da-f7fc-4110-b64a-23d667358292",
   "metadata": {},
   "outputs": [],
   "source": [
    "(X_train,y_train), (X_test, y_test) = imdb.load_data(num_words = 88584)"
   ]
  },
  {
   "cell_type": "code",
   "execution_count": 3,
   "id": "16e020ae-d665-46df-8523-76fca38f704f",
   "metadata": {},
   "outputs": [
    {
     "data": {
      "text/plain": [
       "[1,\n",
       " 6,\n",
       " 964,\n",
       " 437,\n",
       " 7,\n",
       " 58,\n",
       " 43,\n",
       " 1402,\n",
       " 11,\n",
       " 6,\n",
       " 171,\n",
       " 3978,\n",
       " 701,\n",
       " 570,\n",
       " 997,\n",
       " 4179,\n",
       " 1880,\n",
       " 6,\n",
       " 5211,\n",
       " 5288,\n",
       " 550,\n",
       " 1270,\n",
       " 1222,\n",
       " 4891,\n",
       " 519,\n",
       " 6141,\n",
       " 5,\n",
       " 236,\n",
       " 21,\n",
       " 24,\n",
       " 222,\n",
       " 6,\n",
       " 3934,\n",
       " 31726,\n",
       " 40,\n",
       " 109,\n",
       " 19,\n",
       " 1513,\n",
       " 8,\n",
       " 1513,\n",
       " 893,\n",
       " 8016,\n",
       " 5,\n",
       " 1493,\n",
       " 11,\n",
       " 6,\n",
       " 20619,\n",
       " 5,\n",
       " 25,\n",
       " 80,\n",
       " 28,\n",
       " 14,\n",
       " 806,\n",
       " 1338,\n",
       " 18,\n",
       " 6,\n",
       " 20,\n",
       " 13,\n",
       " 66,\n",
       " 188,\n",
       " 6,\n",
       " 462,\n",
       " 46,\n",
       " 7,\n",
       " 4,\n",
       " 884,\n",
       " 445,\n",
       " 40,\n",
       " 2699,\n",
       " 32766,\n",
       " 9671,\n",
       " 4,\n",
       " 114,\n",
       " 16,\n",
       " 1198,\n",
       " 200,\n",
       " 5400,\n",
       " 5,\n",
       " 701,\n",
       " 2975,\n",
       " 89,\n",
       " 111,\n",
       " 22416,\n",
       " 26,\n",
       " 1688,\n",
       " 8,\n",
       " 97,\n",
       " 6,\n",
       " 2476,\n",
       " 1431,\n",
       " 2863,\n",
       " 2134,\n",
       " 23,\n",
       " 6,\n",
       " 519,\n",
       " 1522,\n",
       " 1527,\n",
       " 470,\n",
       " 21,\n",
       " 161,\n",
       " 36,\n",
       " 413,\n",
       " 22416,\n",
       " 143,\n",
       " 49693,\n",
       " 4756,\n",
       " 14,\n",
       " 16,\n",
       " 398,\n",
       " 18,\n",
       " 15859,\n",
       " 6286,\n",
       " 12,\n",
       " 299,\n",
       " 40,\n",
       " 6,\n",
       " 374,\n",
       " 500,\n",
       " 13,\n",
       " 122,\n",
       " 358,\n",
       " 4,\n",
       " 68598,\n",
       " 1530,\n",
       " 5128,\n",
       " 11,\n",
       " 4,\n",
       " 2092,\n",
       " 151]"
      ]
     },
     "execution_count": 3,
     "metadata": {},
     "output_type": "execute_result"
    }
   ],
   "source": [
    "X_train[15]"
   ]
  },
  {
   "cell_type": "code",
   "execution_count": 4,
   "id": "29abcc9e-ff95-43be-83b5-33dcd11f06e4",
   "metadata": {},
   "outputs": [
    {
     "data": {
      "text/plain": [
       "129"
      ]
     },
     "execution_count": 4,
     "metadata": {},
     "output_type": "execute_result"
    }
   ],
   "source": [
    "len(X_train[15])"
   ]
  },
  {
   "cell_type": "code",
   "execution_count": 5,
   "id": "4a9ae6a8-c976-4ac0-b9f0-ef0eedb06a93",
   "metadata": {},
   "outputs": [
    {
     "data": {
      "text/plain": [
       "233"
      ]
     },
     "execution_count": 5,
     "metadata": {},
     "output_type": "execute_result"
    }
   ],
   "source": [
    "len(X_train[8])"
   ]
  },
  {
   "cell_type": "code",
   "execution_count": 6,
   "id": "8814cb03-4b66-470a-bf60-8091c87ee892",
   "metadata": {},
   "outputs": [
    {
     "data": {
      "text/plain": [
       "array([1, 0, 0, ..., 0, 1, 0])"
      ]
     },
     "execution_count": 6,
     "metadata": {},
     "output_type": "execute_result"
    }
   ],
   "source": [
    "y_train"
   ]
  },
  {
   "cell_type": "code",
   "execution_count": 7,
   "id": "4ff95a44-bc27-448f-87a4-07a9efd0d190",
   "metadata": {},
   "outputs": [],
   "source": [
    "X_train = sequence.pad_sequences(X_train, 250)\n",
    "X_test = sequence.pad_sequences(X_test, 250)"
   ]
  },
  {
   "cell_type": "code",
   "execution_count": 8,
   "id": "ca9b2582-f1e4-4731-a403-e0c109a8bc4c",
   "metadata": {},
   "outputs": [
    {
     "data": {
      "text/plain": [
       "array([    0,     0,     0,     0,     0,     0,     0,     0,     0,\n",
       "           0,     0,     0,     0,     0,     0,     0,     0,     0,\n",
       "           0,     0,     0,     0,     0,     0,     0,     0,     0,\n",
       "           0,     0,     0,     0,     0,     0,     0,     0,     0,\n",
       "           0,     0,     0,     0,     0,     0,     0,     0,     0,\n",
       "           0,     0,     0,     0,     0,     0,     0,     0,     0,\n",
       "           0,     0,     0,     0,     0,     0,     0,     0,     0,\n",
       "           0,     0,     0,     0,     0,     0,     0,     0,     0,\n",
       "           0,     0,     0,     0,     0,     0,     0,     0,     0,\n",
       "           0,     0,     0,     0,     0,     0,     0,     0,     0,\n",
       "           0,     0,     0,     0,     0,     0,     0,     0,     0,\n",
       "           0,     0,     0,     0,     0,     0,     0,     0,     0,\n",
       "           0,     0,     0,     0,     0,     0,     0,     0,     0,\n",
       "           0,     0,     0,     1,    14,    20,    47,   111,   439,\n",
       "        3445,    19,    12,    15,   166,    12,   216,   125,    40,\n",
       "           6,   364,   352,   707,  1187,    39,   294,    11,    22,\n",
       "         396,    13,    28,     8,   202,    12,  1109,    23,    94,\n",
       "       15201,   151,   111,   211,   469,     4,    20,    13,   258,\n",
       "         546,  1104,  7273,    12,    16,    38,    78,    33,   211,\n",
       "          15,    12,    16,  2849,    63,    93,    12,     6,   253,\n",
       "         106,    10,    10,    48,   335,   267,    18,     6,   364,\n",
       "        1242,  1179,    20,    19,     6,  1009,     7,  1987,   189,\n",
       "           5,     6,  8419,     7,  2723, 13209,    95,  1719,     6,\n",
       "        6035,     7,  3912,  7144,    49,   369,   120,     5,    28,\n",
       "          49,   253,    10,    10,    13,  1041,    19,    85,   795,\n",
       "          15,     4,   481,     9,    55,    78,   807,     9,   375,\n",
       "           8,  1167,     8,   794,    76,     7,     4,    58,     5,\n",
       "           4,   816,     9,   243,     7,    43,    50], dtype=int32)"
      ]
     },
     "execution_count": 8,
     "metadata": {},
     "output_type": "execute_result"
    }
   ],
   "source": [
    "X_train[9]"
   ]
  },
  {
   "cell_type": "markdown",
   "id": "b6c53f8c-b0bc-4ab7-9ce1-47600a712a69",
   "metadata": {},
   "source": [
    "**BUILDING THE MODEL**"
   ]
  },
  {
   "cell_type": "code",
   "execution_count": 9,
   "id": "9b5e3d96-83b2-45fa-a004-2b75a4e91e8f",
   "metadata": {},
   "outputs": [
    {
     "name": "stderr",
     "output_type": "stream",
     "text": [
      "2024-03-09 16:43:58.973292: E external/local_xla/xla/stream_executor/cuda/cuda_driver.cc:274] failed call to cuInit: CUDA_ERROR_NO_DEVICE: no CUDA-capable device is detected\n"
     ]
    }
   ],
   "source": [
    "model = keras.Sequential([\n",
    "    keras.layers.Embedding(88584, 128),\n",
    "    keras.layers.LSTM(128),\n",
    "    keras.layers.Dense(1, activation='sigmoid')\n",
    "])"
   ]
  },
  {
   "cell_type": "code",
   "execution_count": 10,
   "id": "4178653d-c141-49f6-bd34-af3238ae3fb4",
   "metadata": {},
   "outputs": [
    {
     "name": "stdout",
     "output_type": "stream",
     "text": [
      "Model: \"sequential\"\n",
      "_________________________________________________________________\n",
      " Layer (type)                Output Shape              Param #   \n",
      "=================================================================\n",
      " embedding (Embedding)       (None, None, 128)         11338752  \n",
      "                                                                 \n",
      " lstm (LSTM)                 (None, 128)               131584    \n",
      "                                                                 \n",
      " dense (Dense)               (None, 1)                 129       \n",
      "                                                                 \n",
      "=================================================================\n",
      "Total params: 11470465 (43.76 MB)\n",
      "Trainable params: 11470465 (43.76 MB)\n",
      "Non-trainable params: 0 (0.00 Byte)\n",
      "_________________________________________________________________\n"
     ]
    }
   ],
   "source": [
    "model.summary()"
   ]
  },
  {
   "cell_type": "markdown",
   "id": "5b418901-38a2-4818-a0d5-1512cec972a9",
   "metadata": {},
   "source": [
    "**TRAINING THE MODEL**"
   ]
  },
  {
   "cell_type": "code",
   "execution_count": 11,
   "id": "b21c15d4-0e16-48fd-af68-c17fcc94ae5b",
   "metadata": {},
   "outputs": [
    {
     "name": "stdout",
     "output_type": "stream",
     "text": [
      "Epoch 1/10\n",
      "782/782 [==============================] - 302s 383ms/step - loss: 0.4530 - acc: 0.7890\n",
      "Epoch 2/10\n",
      "782/782 [==============================] - 399s 510ms/step - loss: 0.2905 - acc: 0.8862\n",
      "Epoch 3/10\n",
      "782/782 [==============================] - 347s 443ms/step - loss: 0.2314 - acc: 0.9136\n",
      "Epoch 4/10\n",
      "782/782 [==============================] - 272s 348ms/step - loss: 0.1847 - acc: 0.9322\n",
      "Epoch 5/10\n",
      "782/782 [==============================] - 257s 329ms/step - loss: 0.1442 - acc: 0.9492\n",
      "Epoch 6/10\n",
      "782/782 [==============================] - 275s 351ms/step - loss: 0.1145 - acc: 0.9613\n",
      "Epoch 7/10\n",
      "782/782 [==============================] - 246s 315ms/step - loss: 0.0915 - acc: 0.9701\n",
      "Epoch 8/10\n",
      "782/782 [==============================] - 250s 319ms/step - loss: 0.0669 - acc: 0.9787\n",
      "Epoch 9/10\n",
      "782/782 [==============================] - 259s 332ms/step - loss: 0.0523 - acc: 0.9833\n",
      "Epoch 10/10\n",
      "782/782 [==============================] - 248s 317ms/step - loss: 0.0422 - acc: 0.9866\n"
     ]
    }
   ],
   "source": [
    "model.compile(loss= \"binary_crossentropy\", optimizer= \"rmsprop\", metrics= ['acc'])\n",
    "model.fit(X_train, y_train, epochs= 10)\n",
    "keras.backend.clear_session()"
   ]
  },
  {
   "cell_type": "markdown",
   "id": "0e60eded-2475-44a9-9adb-5a1b94b76597",
   "metadata": {},
   "source": [
    "**EVALUATING THE MODEL**"
   ]
  },
  {
   "cell_type": "code",
   "execution_count": 12,
   "id": "8838f868-560d-40bd-b8e9-4a46094d9457",
   "metadata": {},
   "outputs": [
    {
     "name": "stdout",
     "output_type": "stream",
     "text": [
      "782/782 [==============================] - 67s 86ms/step - loss: 0.5387 - acc: 0.8700\n"
     ]
    },
    {
     "data": {
      "text/plain": [
       "[0.5387425422668457, 0.8700399994850159]"
      ]
     },
     "execution_count": 12,
     "metadata": {},
     "output_type": "execute_result"
    }
   ],
   "source": [
    "model.evaluate(X_test, y_test)"
   ]
  },
  {
   "cell_type": "markdown",
   "id": "f674ed55-1c77-4297-b0c7-f57976156b26",
   "metadata": {},
   "source": [
    "**The accuracy on the testing dataset is 87%, which pretty good!**"
   ]
  }
 ],
 "metadata": {
  "kernelspec": {
   "display_name": "Python 3 (ipykernel)",
   "language": "python",
   "name": "python3"
  },
  "language_info": {
   "codemirror_mode": {
    "name": "ipython",
    "version": 3
   },
   "file_extension": ".py",
   "mimetype": "text/x-python",
   "name": "python",
   "nbconvert_exporter": "python",
   "pygments_lexer": "ipython3",
   "version": "3.10.12"
  }
 },
 "nbformat": 4,
 "nbformat_minor": 5
}
